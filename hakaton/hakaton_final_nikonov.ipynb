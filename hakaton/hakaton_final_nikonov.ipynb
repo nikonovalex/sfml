{
 "cells": [
  {
   "cell_type": "markdown",
   "metadata": {},
   "source": [
    "# SkillFactory\n",
    "## Hakaton Kaggle"
   ]
  },
  {
   "cell_type": "code",
   "execution_count": 1,
   "metadata": {},
   "outputs": [
    {
     "name": "stderr",
     "output_type": "stream",
     "text": [
      "/Applications/anaconda3/lib/python3.6/site-packages/sklearn/cross_validation.py:41: DeprecationWarning: This module was deprecated in version 0.18 in favor of the model_selection module into which all the refactored classes and functions are moved. Also note that the interface of the new CV iterators are different from that of this module. This module will be removed in 0.20.\n",
      "  \"This module will be removed in 0.20.\", DeprecationWarning)\n"
     ]
    }
   ],
   "source": [
    "import pandas as pd\n",
    "import numpy as np\n",
    "import matplotlib.pyplot as plt\n",
    "from sklearn.cross_validation import train_test_split\n",
    "\n",
    "from datetime import datetime\n",
    "from pprint import pprint\n",
    "\n",
    "from sklearn.cluster import KMeans\n",
    "from tqdm import tqdm_notebook\n",
    "\n",
    "from sklearn.tree import DecisionTreeClassifier\n",
    "from sklearn.ensemble import RandomForestClassifier\n",
    "from sklearn.linear_model import LogisticRegression\n",
    "\n",
    "import lightgbm as lgb\n",
    "\n",
    "from sklearn.tree import DecisionTreeRegressor\n",
    "from sklearn.neighbors import KNeighborsClassifier\n",
    "\n",
    "#from nltk.stem import SnowballStemmer\n",
    "import math\n",
    "\n",
    "\n",
    "%matplotlib inline\n",
    "\n",
    "plt.style.use('ggplot')\n",
    "plt.rcParams['figure.figsize'] = (12,5)\n",
    "#snowball_stemmer = SnowballStemmer( \"russian\" )\n",
    "\n",
    "#from pymystem3 import Mystem\n",
    "\n",
    "#m = Mystem()"
   ]
  },
  {
   "cell_type": "code",
   "execution_count": 3,
   "metadata": {},
   "outputs": [],
   "source": [
    "params = {'20': ['м²'], '100':{'give':['Сдам', 'Сдаю','сдам','сдаю','Сдаётся','сдаётся', 'Снять','снять','Здамs'\\\n",
    "                                      ,'Сдается','сдается','Аренда','аренда'],\\\n",
    "                               'sell':['Продам','Продаю','Квартира','Продается','Гараж','Гораж','Коттедж','Дача',\\\n",
    "                                      'продам','продаю','квартира','продается','гараж','гораж','коттедж','дача'\\\n",
    "                                      ,'Участок','участок','Дом','дом','Дома','дома']}}"
   ]
  },
  {
   "cell_type": "markdown",
   "metadata": {},
   "source": [
    "# Грузим целый трейн"
   ]
  },
  {
   "cell_type": "code",
   "execution_count": 2,
   "metadata": {},
   "outputs": [
    {
     "name": "stdout",
     "output_type": "stream",
     "text": [
      "CPU times: user 2min 14s, sys: 2min 31s, total: 4min 45s\n",
      "Wall time: 5min 12s\n"
     ]
    }
   ],
   "source": [
    "%%time\n",
    "\n",
    "df_train = pd.read_pickle('hackathon-sf-ml-11/train_hack.pckl')\n",
    "df_train = df_train.set_index('id')"
   ]
  },
  {
   "cell_type": "code",
   "execution_count": null,
   "metadata": {},
   "outputs": [],
   "source": []
  },
  {
   "cell_type": "code",
   "execution_count": null,
   "metadata": {},
   "outputs": [],
   "source": []
  },
  {
   "cell_type": "markdown",
   "metadata": {},
   "source": [
    "# грузим целый тест"
   ]
  },
  {
   "cell_type": "code",
   "execution_count": 4,
   "metadata": {},
   "outputs": [
    {
     "name": "stdout",
     "output_type": "stream",
     "text": [
      "CPU times: user 1min 37s, sys: 4min 4s, total: 5min 41s\n",
      "Wall time: 6min 40s\n"
     ]
    }
   ],
   "source": [
    "%%time\n",
    "\n",
    "df_test = pd.read_pickle('hackathon-sf-ml-11/test_hack.pckl')\n",
    "df_test = df_test.set_index('id')"
   ]
  },
  {
   "cell_type": "markdown",
   "metadata": {},
   "source": [
    "# Проверяем, что все нормально загрузилось"
   ]
  },
  {
   "cell_type": "code",
   "execution_count": 5,
   "metadata": {},
   "outputs": [
    {
     "data": {
      "text/html": [
       "<div>\n",
       "<style scoped>\n",
       "    .dataframe tbody tr th:only-of-type {\n",
       "        vertical-align: middle;\n",
       "    }\n",
       "\n",
       "    .dataframe tbody tr th {\n",
       "        vertical-align: top;\n",
       "    }\n",
       "\n",
       "    .dataframe thead th {\n",
       "        text-align: right;\n",
       "    }\n",
       "</style>\n",
       "<table border=\"1\" class=\"dataframe\">\n",
       "  <thead>\n",
       "    <tr style=\"text-align: right;\">\n",
       "      <th></th>\n",
       "      <th>can_buy</th>\n",
       "      <th>can_promote</th>\n",
       "      <th>category</th>\n",
       "      <th>contacts_visible</th>\n",
       "      <th>date_created</th>\n",
       "      <th>delivery_available</th>\n",
       "      <th>description</th>\n",
       "      <th>fields</th>\n",
       "      <th>images</th>\n",
       "      <th>location</th>\n",
       "      <th>mortgage_available</th>\n",
       "      <th>name</th>\n",
       "      <th>payment_available</th>\n",
       "      <th>subcategory</th>\n",
       "      <th>subway</th>\n",
       "    </tr>\n",
       "    <tr>\n",
       "      <th>id</th>\n",
       "      <th></th>\n",
       "      <th></th>\n",
       "      <th></th>\n",
       "      <th></th>\n",
       "      <th></th>\n",
       "      <th></th>\n",
       "      <th></th>\n",
       "      <th></th>\n",
       "      <th></th>\n",
       "      <th></th>\n",
       "      <th></th>\n",
       "      <th></th>\n",
       "      <th></th>\n",
       "      <th></th>\n",
       "      <th></th>\n",
       "    </tr>\n",
       "  </thead>\n",
       "  <tbody>\n",
       "    <tr>\n",
       "      <th>285ea2e9935ccdeb8378c6a5</th>\n",
       "      <td>False</td>\n",
       "      <td>False</td>\n",
       "      <td>6</td>\n",
       "      <td>True</td>\n",
       "      <td>1517061944</td>\n",
       "      <td>True</td>\n",
       "      <td>Стремянка трехсекционная,3×4</td>\n",
       "      <td>[{'field': {'name': 'Ремонт и строительство', ...</td>\n",
       "      <td>[{'id': '5a6c864a074b3e7d207f3522', 'num': 1, ...</td>\n",
       "      <td>{'latitude': 54.749969, 'longitude': 55.993774}</td>\n",
       "      <td>False</td>\n",
       "      <td>Стремянка</td>\n",
       "      <td>True</td>\n",
       "      <td>603</td>\n",
       "      <td>NaN</td>\n",
       "    </tr>\n",
       "  </tbody>\n",
       "</table>\n",
       "</div>"
      ],
      "text/plain": [
       "                          can_buy  can_promote  category  contacts_visible  \\\n",
       "id                                                                           \n",
       "285ea2e9935ccdeb8378c6a5    False        False         6              True   \n",
       "\n",
       "                          date_created  delivery_available  \\\n",
       "id                                                           \n",
       "285ea2e9935ccdeb8378c6a5    1517061944                True   \n",
       "\n",
       "                                           description  \\\n",
       "id                                                       \n",
       "285ea2e9935ccdeb8378c6a5  Стремянка трехсекционная,3×4   \n",
       "\n",
       "                                                                     fields  \\\n",
       "id                                                                            \n",
       "285ea2e9935ccdeb8378c6a5  [{'field': {'name': 'Ремонт и строительство', ...   \n",
       "\n",
       "                                                                     images  \\\n",
       "id                                                                            \n",
       "285ea2e9935ccdeb8378c6a5  [{'id': '5a6c864a074b3e7d207f3522', 'num': 1, ...   \n",
       "\n",
       "                                                                 location  \\\n",
       "id                                                                          \n",
       "285ea2e9935ccdeb8378c6a5  {'latitude': 54.749969, 'longitude': 55.993774}   \n",
       "\n",
       "                          mortgage_available       name  payment_available  \\\n",
       "id                                                                           \n",
       "285ea2e9935ccdeb8378c6a5               False  Стремянка               True   \n",
       "\n",
       "                          subcategory subway  \n",
       "id                                            \n",
       "285ea2e9935ccdeb8378c6a5          603    NaN  "
      ]
     },
     "execution_count": 5,
     "metadata": {},
     "output_type": "execute_result"
    }
   ],
   "source": [
    "df_test[:1]"
   ]
  },
  {
   "cell_type": "markdown",
   "metadata": {},
   "source": [
    "# Дропаем ненужные столбцы"
   ]
  },
  {
   "cell_type": "code",
   "execution_count": 6,
   "metadata": {},
   "outputs": [],
   "source": [
    "df_train = df_train.drop(['description', 'fields',], axis=1)"
   ]
  },
  {
   "cell_type": "code",
   "execution_count": 7,
   "metadata": {},
   "outputs": [],
   "source": [
    "df_test = df_test.drop(['description', 'fields',], axis=1)"
   ]
  },
  {
   "cell_type": "markdown",
   "metadata": {},
   "source": [
    "# Чистим дату"
   ]
  },
  {
   "cell_type": "code",
   "execution_count": 8,
   "metadata": {},
   "outputs": [],
   "source": [
    "df_train.loc[:, 'sample'] = 'train'\n",
    "df_test.loc[:, 'sample'] = 'score'\n",
    "\n",
    "\n",
    "\n",
    "# Concat\n",
    "concat_df = df_test.append(df_train)\n",
    "\n"
   ]
  },
  {
   "cell_type": "code",
   "execution_count": 9,
   "metadata": {},
   "outputs": [
    {
     "data": {
      "text/html": [
       "<div>\n",
       "<style scoped>\n",
       "    .dataframe tbody tr th:only-of-type {\n",
       "        vertical-align: middle;\n",
       "    }\n",
       "\n",
       "    .dataframe tbody tr th {\n",
       "        vertical-align: top;\n",
       "    }\n",
       "\n",
       "    .dataframe thead th {\n",
       "        text-align: right;\n",
       "    }\n",
       "</style>\n",
       "<table border=\"1\" class=\"dataframe\">\n",
       "  <thead>\n",
       "    <tr style=\"text-align: right;\">\n",
       "      <th></th>\n",
       "      <th>can_buy</th>\n",
       "      <th>can_promote</th>\n",
       "      <th>category</th>\n",
       "      <th>contacts_visible</th>\n",
       "      <th>date_created</th>\n",
       "      <th>delivery_available</th>\n",
       "      <th>images</th>\n",
       "      <th>location</th>\n",
       "      <th>mortgage_available</th>\n",
       "      <th>name</th>\n",
       "      <th>payment_available</th>\n",
       "      <th>price</th>\n",
       "      <th>sample</th>\n",
       "      <th>subcategory</th>\n",
       "      <th>subway</th>\n",
       "    </tr>\n",
       "    <tr>\n",
       "      <th>id</th>\n",
       "      <th></th>\n",
       "      <th></th>\n",
       "      <th></th>\n",
       "      <th></th>\n",
       "      <th></th>\n",
       "      <th></th>\n",
       "      <th></th>\n",
       "      <th></th>\n",
       "      <th></th>\n",
       "      <th></th>\n",
       "      <th></th>\n",
       "      <th></th>\n",
       "      <th></th>\n",
       "      <th></th>\n",
       "      <th></th>\n",
       "    </tr>\n",
       "  </thead>\n",
       "  <tbody>\n",
       "    <tr>\n",
       "      <th>285ea2e9935ccdeb8378c6a5</th>\n",
       "      <td>False</td>\n",
       "      <td>False</td>\n",
       "      <td>6</td>\n",
       "      <td>True</td>\n",
       "      <td>1517061944</td>\n",
       "      <td>True</td>\n",
       "      <td>[{'id': '5a6c864a074b3e7d207f3522', 'num': 1, ...</td>\n",
       "      <td>{'latitude': 54.749969, 'longitude': 55.993774}</td>\n",
       "      <td>False</td>\n",
       "      <td>Стремянка</td>\n",
       "      <td>True</td>\n",
       "      <td>NaN</td>\n",
       "      <td>score</td>\n",
       "      <td>603</td>\n",
       "      <td>NaN</td>\n",
       "    </tr>\n",
       "    <tr>\n",
       "      <th>adfb73820bbb831257df6e95</th>\n",
       "      <td>False</td>\n",
       "      <td>False</td>\n",
       "      <td>2</td>\n",
       "      <td>True</td>\n",
       "      <td>1508310389</td>\n",
       "      <td>False</td>\n",
       "      <td>[{'id': '59e6fc49f202633e173ad413', 'num': 1, ...</td>\n",
       "      <td>{'latitude': 59.737736, 'longitude': 30.078828}</td>\n",
       "      <td>False</td>\n",
       "      <td>Плита электрическая</td>\n",
       "      <td>True</td>\n",
       "      <td>NaN</td>\n",
       "      <td>score</td>\n",
       "      <td>203</td>\n",
       "      <td>NaN</td>\n",
       "    </tr>\n",
       "    <tr>\n",
       "      <th>783025601c36202f633fc6a5</th>\n",
       "      <td>False</td>\n",
       "      <td>False</td>\n",
       "      <td>1</td>\n",
       "      <td>True</td>\n",
       "      <td>1517089590</td>\n",
       "      <td>False</td>\n",
       "      <td>[{'id': '5a6cf2b65eaa9e4973249b62', 'num': 1, ...</td>\n",
       "      <td>{'latitude': 55.989156, 'longitude': 37.145419}</td>\n",
       "      <td>False</td>\n",
       "      <td>Диски R17 Rays MazdaSpeed Touring 5х114.3 7J</td>\n",
       "      <td>False</td>\n",
       "      <td>NaN</td>\n",
       "      <td>score</td>\n",
       "      <td>116</td>\n",
       "      <td>NaN</td>\n",
       "    </tr>\n",
       "    <tr>\n",
       "      <th>2f0cd2d2e15dc90afd847f95</th>\n",
       "      <td>False</td>\n",
       "      <td>False</td>\n",
       "      <td>10</td>\n",
       "      <td>True</td>\n",
       "      <td>1509378271</td>\n",
       "      <td>False</td>\n",
       "      <td>[{'id': '59f748bca09cd5081f40d786', 'num': 1, ...</td>\n",
       "      <td>{'latitude': 55.805178, 'longitude': 37.771612}</td>\n",
       "      <td>False</td>\n",
       "      <td>Batman Archam Knight</td>\n",
       "      <td>True</td>\n",
       "      <td>NaN</td>\n",
       "      <td>score</td>\n",
       "      <td>1009</td>\n",
       "      <td>NaN</td>\n",
       "    </tr>\n",
       "    <tr>\n",
       "      <th>5c23a37902855a20172845a5</th>\n",
       "      <td>False</td>\n",
       "      <td>False</td>\n",
       "      <td>11</td>\n",
       "      <td>True</td>\n",
       "      <td>1515487857</td>\n",
       "      <td>False</td>\n",
       "      <td>[{'id': '5a548186c6ab9e73a2056162', 'num': 1, ...</td>\n",
       "      <td>{'latitude': 59.843029, 'longitude': 30.246231}</td>\n",
       "      <td>False</td>\n",
       "      <td>Ледобур для зимней рыбалки</td>\n",
       "      <td>False</td>\n",
       "      <td>NaN</td>\n",
       "      <td>score</td>\n",
       "      <td>1104</td>\n",
       "      <td>NaN</td>\n",
       "    </tr>\n",
       "  </tbody>\n",
       "</table>\n",
       "</div>"
      ],
      "text/plain": [
       "                          can_buy  can_promote  category  contacts_visible  \\\n",
       "id                                                                           \n",
       "285ea2e9935ccdeb8378c6a5    False        False         6              True   \n",
       "adfb73820bbb831257df6e95    False        False         2              True   \n",
       "783025601c36202f633fc6a5    False        False         1              True   \n",
       "2f0cd2d2e15dc90afd847f95    False        False        10              True   \n",
       "5c23a37902855a20172845a5    False        False        11              True   \n",
       "\n",
       "                          date_created  delivery_available  \\\n",
       "id                                                           \n",
       "285ea2e9935ccdeb8378c6a5    1517061944                True   \n",
       "adfb73820bbb831257df6e95    1508310389               False   \n",
       "783025601c36202f633fc6a5    1517089590               False   \n",
       "2f0cd2d2e15dc90afd847f95    1509378271               False   \n",
       "5c23a37902855a20172845a5    1515487857               False   \n",
       "\n",
       "                                                                     images  \\\n",
       "id                                                                            \n",
       "285ea2e9935ccdeb8378c6a5  [{'id': '5a6c864a074b3e7d207f3522', 'num': 1, ...   \n",
       "adfb73820bbb831257df6e95  [{'id': '59e6fc49f202633e173ad413', 'num': 1, ...   \n",
       "783025601c36202f633fc6a5  [{'id': '5a6cf2b65eaa9e4973249b62', 'num': 1, ...   \n",
       "2f0cd2d2e15dc90afd847f95  [{'id': '59f748bca09cd5081f40d786', 'num': 1, ...   \n",
       "5c23a37902855a20172845a5  [{'id': '5a548186c6ab9e73a2056162', 'num': 1, ...   \n",
       "\n",
       "                                                                 location  \\\n",
       "id                                                                          \n",
       "285ea2e9935ccdeb8378c6a5  {'latitude': 54.749969, 'longitude': 55.993774}   \n",
       "adfb73820bbb831257df6e95  {'latitude': 59.737736, 'longitude': 30.078828}   \n",
       "783025601c36202f633fc6a5  {'latitude': 55.989156, 'longitude': 37.145419}   \n",
       "2f0cd2d2e15dc90afd847f95  {'latitude': 55.805178, 'longitude': 37.771612}   \n",
       "5c23a37902855a20172845a5  {'latitude': 59.843029, 'longitude': 30.246231}   \n",
       "\n",
       "                          mortgage_available  \\\n",
       "id                                             \n",
       "285ea2e9935ccdeb8378c6a5               False   \n",
       "adfb73820bbb831257df6e95               False   \n",
       "783025601c36202f633fc6a5               False   \n",
       "2f0cd2d2e15dc90afd847f95               False   \n",
       "5c23a37902855a20172845a5               False   \n",
       "\n",
       "                                                                  name  \\\n",
       "id                                                                       \n",
       "285ea2e9935ccdeb8378c6a5                                     Стремянка   \n",
       "adfb73820bbb831257df6e95                           Плита электрическая   \n",
       "783025601c36202f633fc6a5  Диски R17 Rays MazdaSpeed Touring 5х114.3 7J   \n",
       "2f0cd2d2e15dc90afd847f95                          Batman Archam Knight   \n",
       "5c23a37902855a20172845a5                    Ледобур для зимней рыбалки   \n",
       "\n",
       "                          payment_available  price sample  subcategory subway  \n",
       "id                                                                             \n",
       "285ea2e9935ccdeb8378c6a5               True    NaN  score          603    NaN  \n",
       "adfb73820bbb831257df6e95               True    NaN  score          203    NaN  \n",
       "783025601c36202f633fc6a5              False    NaN  score          116    NaN  \n",
       "2f0cd2d2e15dc90afd847f95               True    NaN  score         1009    NaN  \n",
       "5c23a37902855a20172845a5              False    NaN  score         1104    NaN  "
      ]
     },
     "execution_count": 9,
     "metadata": {},
     "output_type": "execute_result"
    }
   ],
   "source": [
    "concat_df.head()"
   ]
  },
  {
   "cell_type": "code",
   "execution_count": 10,
   "metadata": {},
   "outputs": [],
   "source": [
    "concat_df.loc[concat_df['price'].isnull(), 'expensive'] = 0\n",
    "concat_df['expensive'] = np.where(concat_df['price'] > 100000000, 1, 0)"
   ]
  },
  {
   "cell_type": "code",
   "execution_count": null,
   "metadata": {},
   "outputs": [],
   "source": []
  },
  {
   "cell_type": "code",
   "execution_count": null,
   "metadata": {},
   "outputs": [],
   "source": [
    "for idx, row in concat_df[concat_df['category'] == 20].iterrows():\n",
    "    \n",
    "    metersTrue = False\n",
    "    meters_number = 0\n",
    "    meters_sum=0\n",
    "    meters_average = 0\n",
    "        \n",
    "    for x in concat_df.loc[idx,'name'].split(' '):\n",
    "        \n",
    "        try:\n",
    "            k = int(float(x))\n",
    "            if k>9:\n",
    "                meters_number +=1\n",
    "                meters_sum += k\n",
    "        except ValueError:\n",
    "            p = 10\n",
    "\n",
    "        if x in params['20']:\n",
    "            metersTrue = True\n",
    "    \n",
    "    \n",
    "    if metersTrue and meters_sum>0:\n",
    "        meters_average = meters_sum // meters_number\n",
    "        if meters_average < 30:\n",
    "            concat_df.loc[idx,'name'] = 'small_meters'\n",
    "        elif meters_average <= 50:\n",
    "            concat_df.loc[idx,'name'] = 'medium_meters' \n",
    "        elif meters_average <= 80:\n",
    "            concat_df.loc[idx,'name'] = 'big_meters'\n",
    "        else:\n",
    "            concat_df.loc[idx,'name'] = 'very_big_meters'"
   ]
  },
  {
   "cell_type": "code",
   "execution_count": null,
   "metadata": {},
   "outputs": [],
   "source": [
    "for idx, row in concat_df[concat_df['category'] == 100].iterrows():\n",
    "    \n",
    "    for x in concat_df.loc[idx,'name'].split(' '):\n",
    "        \n",
    "        if x in params['100']['give']:\n",
    "            concat_df.loc[idx,'name'] = 'give'\n",
    "        \n",
    "        if x in params['100']['sell']:\n",
    "            concat_df.loc[idx,'name'] = 'sell'"
   ]
  },
  {
   "cell_type": "code",
   "execution_count": null,
   "metadata": {},
   "outputs": [],
   "source": []
  },
  {
   "cell_type": "code",
   "execution_count": null,
   "metadata": {
    "scrolled": true
   },
   "outputs": [],
   "source": [
    "# дропаем can_buy, can_promote - т.к. всегда false или true, дропаем delivery_available, subway т.к. очень мало True\n",
    "\n",
    "concat_df = concat_df.drop(['can_buy', 'can_promote', 'contacts_visible', 'mortgage_available',\\\n",
    "                          'delivery_available', 'subway'], axis=1)\n",
    "\n",
    "#Dates...\n",
    "concat_df['date_created'] = pd.to_datetime(concat_df['date_created'], unit='s')\n",
    "concat_df['year'] = concat_df.date_created.dt.year\n",
    "concat_df['month'] = concat_df.date_created.dt.month\n",
    "concat_df['dow'] = concat_df.date_created.dt.dayofweek\n",
    "concat_df.drop(['date_created'], axis=1, inplace=True)\n",
    "\n",
    "# images_num делаем переменную - количество картинок\n",
    "concat_df['images_num'] = concat_df['images'].str.len()\n",
    "concat_df.drop(['images'], axis=1, inplace=True)\n",
    "\n",
    "# превращаем location в 2 столбца\n",
    "\n",
    "concat_df['latitude'] = concat_df['location'].apply(lambda x: x['latitude'])\n",
    "concat_df['longitude'] = concat_df['location'].apply(lambda x: x['longitude'])\n",
    "concat_df.drop(['location'], axis=1, inplace=True)\n",
    "\n",
    "\n"
   ]
  },
  {
   "cell_type": "code",
   "execution_count": null,
   "metadata": {},
   "outputs": [],
   "source": [
    "loc_x = []\n",
    "loc_y = []\n",
    "for _ in tqdm_notebook( range(len(concat_df))) :\n",
    "   loc_x.append(concat_df.iloc[_].latitude)\n",
    "   loc_y.append(concat_df.iloc[_].longitude)\n",
    "\n",
    "tmp_df = pd.DataFrame([loc_x, loc_y]).T\n",
    "\n",
    "kmc = KMeans(n_clusters=85)\n",
    "kmc.fit(tmp_df)\n",
    "concat_df['cluster'] = kmc.labels_"
   ]
  },
  {
   "cell_type": "code",
   "execution_count": null,
   "metadata": {},
   "outputs": [],
   "source": [
    "concat_df.drop(['latitude'], axis=1, inplace=True)\n",
    "concat_df.drop(['longitude'], axis=1, inplace=True)"
   ]
  },
  {
   "cell_type": "code",
   "execution_count": null,
   "metadata": {},
   "outputs": [],
   "source": [
    "# превращаем самые популярные категории из name в dummy\n",
    "\n",
    "threshold = 500\n",
    "name_popular_list=['sell','give','small_meters','medium_meters','big_meters','very_big_meters']\n",
    "\n",
    "counts = concat_df.name.value_counts()\n",
    "name_popular_list = counts[counts > threshold].index\n",
    "\n",
    "concat_df['name'] = concat_df['name'].apply(lambda x: x if x in name_popular_list else 'other_name')\n",
    "\n",
    "concat_df = pd.get_dummies(concat_df, columns=['name']) \n"
   ]
  },
  {
   "cell_type": "code",
   "execution_count": null,
   "metadata": {},
   "outputs": [],
   "source": [
    "concat_df = pd.get_dummies(concat_df, columns=['category', 'cluster']) \n",
    "# Split your data\n",
    "\n",
    "# Drop your labels\n",
    "\n",
    "df_train = concat_df.query('sample == \"train\"').drop(['sample'], axis=1)\n",
    "df_test = concat_df.query('sample == \"score\"').drop(['sample'], axis=1)"
   ]
  },
  {
   "cell_type": "code",
   "execution_count": null,
   "metadata": {},
   "outputs": [],
   "source": [
    "y_train.head()"
   ]
  },
  {
   "cell_type": "code",
   "execution_count": null,
   "metadata": {},
   "outputs": [],
   "source": [
    "y_train = df_train['price']/100\n",
    "\n",
    "X_train = df_train.drop(['price'], axis=1)"
   ]
  },
  {
   "cell_type": "code",
   "execution_count": null,
   "metadata": {},
   "outputs": [],
   "source": [
    "X_train"
   ]
  },
  {
   "cell_type": "markdown",
   "metadata": {},
   "source": [
    "# Делим на трейн и тест"
   ]
  },
  {
   "cell_type": "code",
   "execution_count": null,
   "metadata": {},
   "outputs": [],
   "source": [
    "df_test = df_test.drop(['price'], axis=1)"
   ]
  },
  {
   "cell_type": "code",
   "execution_count": null,
   "metadata": {},
   "outputs": [],
   "source": [
    "dtc = DecisionTreeRegressor()\n",
    "dtc.fit(X_train, y_train)\n",
    "predict_dtc = dtc.predict(df_test)"
   ]
  },
  {
   "cell_type": "code",
   "execution_count": null,
   "metadata": {},
   "outputs": [],
   "source": []
  },
  {
   "cell_type": "code",
   "execution_count": null,
   "metadata": {},
   "outputs": [],
   "source": []
  },
  {
   "cell_type": "code",
   "execution_count": null,
   "metadata": {},
   "outputs": [],
   "source": []
  },
  {
   "cell_type": "code",
   "execution_count": null,
   "metadata": {},
   "outputs": [],
   "source": [
    "y_hat = predict_dtc\n",
    "df_test.loc[:, 'price'] = y_hat\n",
    "df_submission = df_test['price']\n",
    "df_submission.to_csv('submission_team3_on_v2.csv')\n",
    "df_submission.head()"
   ]
  },
  {
   "cell_type": "code",
   "execution_count": 34,
   "metadata": {},
   "outputs": [
    {
     "data": {
      "text/plain": [
       "114"
      ]
     },
     "execution_count": 34,
     "metadata": {},
     "output_type": "execute_result"
    }
   ],
   "source": [
    "len(name_popular_list)"
   ]
  },
  {
   "cell_type": "code",
   "execution_count": null,
   "metadata": {},
   "outputs": [],
   "source": []
  },
  {
   "cell_type": "code",
   "execution_count": null,
   "metadata": {},
   "outputs": [],
   "source": []
  }
 ],
 "metadata": {
  "anaconda-cloud": {},
  "kernelspec": {
   "display_name": "Python 3",
   "language": "python",
   "name": "python3"
  },
  "language_info": {
   "codemirror_mode": {
    "name": "ipython",
    "version": 3
   },
   "file_extension": ".py",
   "mimetype": "text/x-python",
   "name": "python",
   "nbconvert_exporter": "python",
   "pygments_lexer": "ipython3",
   "version": "3.6.4"
  },
  "toc": {
   "colors": {
    "hover_highlight": "#DAA520",
    "navigate_num": "#000000",
    "navigate_text": "#333333",
    "running_highlight": "#FF0000",
    "selected_highlight": "#FFD700",
    "sidebar_border": "#EEEEEE",
    "wrapper_background": "#FFFFFF"
   },
   "moveMenuLeft": true,
   "nav_menu": {
    "height": "31px",
    "width": "253px"
   },
   "navigate_menu": true,
   "number_sections": false,
   "sideBar": true,
   "threshold": 4,
   "toc_cell": false,
   "toc_section_display": "block",
   "toc_window_display": false,
   "widenNotebook": false
  }
 },
 "nbformat": 4,
 "nbformat_minor": 2
}
